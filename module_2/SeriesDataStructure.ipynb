{
 "cells": [
  {
   "cell_type": "markdown",
   "id": "e61e43b6",
   "metadata": {},
   "source": [
    "# Pandas"
   ]
  },
  {
   "cell_type": "markdown",
   "id": "0971f6d6",
   "metadata": {},
   "source": [
    "## Series\n",
    "-1D\n",
    "\n",
    "Series é um dos núcleos  de estruturação de dados em Pandas.\n",
    "Os itens são todos armazenados em ordem e existem labels com a qual podemos pegar os itens.\n",
    "Um jeito fácil de visualizar as séries são através de duas colunas: a primeira são indices, e a segunda são os dados.\n"
   ]
  },
  {
   "cell_type": "markdown",
   "id": "5cd4859e",
   "metadata": {},
   "source": [
    "### Series Data Structure"
   ]
  },
  {
   "cell_type": "code",
   "execution_count": 4,
   "id": "9f8290d2",
   "metadata": {},
   "outputs": [],
   "source": [
    "import pandas as pd"
   ]
  },
  {
   "cell_type": "code",
   "execution_count": 5,
   "id": "bead8e8b",
   "metadata": {},
   "outputs": [
    {
     "data": {
      "text/plain": [
       "0    Alice\n",
       "1     Jack\n",
       "2    Molly\n",
       "dtype: object"
      ]
     },
     "execution_count": 5,
     "metadata": {},
     "output_type": "execute_result"
    }
   ],
   "source": [
    "# Podemos, assim como no numpy, criar uma série passando uma lista de valores.\n",
    "# Quando fazemos isso, o pandas automaticamente atribui um índice começando do\n",
    "# zero e coloca o nome da série como None.\n",
    "\n",
    "students = ['Alice','Jack','Molly']\n",
    "\n",
    "pd.Series(students)\n"
   ]
  },
  {
   "cell_type": "code",
   "execution_count": 6,
   "id": "a74bf1bd",
   "metadata": {},
   "outputs": [],
   "source": [
    "# O resultado é um objeto Series. Podemos ver que o Pandas automaticamente \n",
    "# identificou o tipo dos dados como \"object\" e setou o parâmetro \"dtype\" como apropriado.\n",
    "# Podemos ver também, que os dados são indexados com inteiros começando do zero.\n"
   ]
  },
  {
   "cell_type": "code",
   "execution_count": 7,
   "id": "484948df",
   "metadata": {},
   "outputs": [
    {
     "data": {
      "text/plain": [
       "0    1\n",
       "1    2\n",
       "2    3\n",
       "dtype: int64"
      ]
     },
     "execution_count": 7,
     "metadata": {},
     "output_type": "execute_result"
    }
   ],
   "source": [
    "numbers=[1,2,3]\n",
    "pd.Series(numbers)\n",
    "# Aqui podemos ver que o Pandas,automaticamente, atribui 'int64' ao parâmetro 'dtype'."
   ]
  },
  {
   "cell_type": "code",
   "execution_count": 8,
   "id": "4a111540",
   "metadata": {},
   "outputs": [
    {
     "name": "stdout",
     "output_type": "stream",
     "text": [
      "0    Alice\n",
      "1     Jack\n",
      "2     None\n",
      "dtype: object\n",
      "0    1.0\n",
      "1    2.0\n",
      "2    NaN\n",
      "dtype: float64\n"
     ]
    }
   ],
   "source": [
    "# O mais importante é saber como o Numpy e o Pandas tratam os \"missing data\".\n",
    "\n",
    "# Em Python, nós temos um tipo indicando falta de dado. O  'None'.\n",
    "\n",
    "# Se tivermos algum valor faltante, Pandas faz um tipo de conversão.\n",
    "# Se criarmos uma lista de strings e colocarmos um elemento None type, Pandas\n",
    "# insere como 'None' e seta o dtype como 'object'.\n",
    "# Exemplo:\n",
    "students=[\"Alice\",\"Jack\",None]\n",
    "print(pd.Series(students))\n",
    "\n",
    "# No entando, se criarmos uma lista de números, inteiros ou floats, e colocar\n",
    "# um elemento None type, Pandas automaticamente converte isso para um float\n",
    "# especial chamado NaN (Not a Number).\n",
    "# Exemplo\n",
    "numbers=[1,2,None]\n",
    "print(pd.Series(numbers))\n"
   ]
  },
  {
   "cell_type": "code",
   "execution_count": 9,
   "id": "efa20d09",
   "metadata": {},
   "outputs": [
    {
     "data": {
      "text/plain": [
       "False"
      ]
     },
     "execution_count": 9,
     "metadata": {},
     "output_type": "execute_result"
    }
   ],
   "source": [
    "# Ou seja, None e NaN significam a mesma coisa, denotar que não existe algum dado.\n",
    "# Porém não são representados da mesma forma no Pandas.\n",
    "\n",
    "# NaN não é equivalente ao None, quando fazemos um teste de equivalência, o resultado é False.\n",
    "\n",
    "import numpy as np\n",
    "np.nan==None"
   ]
  },
  {
   "cell_type": "code",
   "execution_count": 10,
   "id": "90deeab8",
   "metadata": {},
   "outputs": [
    {
     "data": {
      "text/plain": [
       "True"
      ]
     },
     "execution_count": 10,
     "metadata": {},
     "output_type": "execute_result"
    }
   ],
   "source": [
    "# Precisamos utilizar uma função especial para testa a presença de um valor faltante.\n",
    "\n",
    "np.isnan(np.nan)"
   ]
  },
  {
   "cell_type": "code",
   "execution_count": 11,
   "id": "aefd8d1c",
   "metadata": {},
   "outputs": [],
   "source": [
    "# Então, mantenha em mente que NaN é similar ao None, mas é um valor numérico\n",
    "# e é tratado diferente."
   ]
  },
  {
   "cell_type": "code",
   "execution_count": 12,
   "id": "21f44195",
   "metadata": {},
   "outputs": [
    {
     "data": {
      "text/plain": [
       "Alice      Physics\n",
       "Jack     Chemistry\n",
       "Molly      English\n",
       "dtype: object"
      ]
     },
     "execution_count": 12,
     "metadata": {},
     "output_type": "execute_result"
    }
   ],
   "source": [
    "# Voltando ao assunto de criação de Series.\n",
    "# Por mais que a lista seja um jeito comum de criar uma Serie, as vezes queremos\n",
    "# nomear os dados que queremos manipular.\n",
    "# Assim, uma Serie pode ser criada diretamente por um dicionário.\n",
    "# Ao fazer isso, os indices são automaticamente atribuidos às chaves dos dicionários.\n",
    "\n",
    "students_scores={'Alice': 'Physics',\n",
    "                   'Jack': 'Chemistry',\n",
    "                   'Molly': 'English'}\n",
    "\n",
    "\n",
    "s=pd.Series(students_scores)\n",
    "s"
   ]
  },
  {
   "cell_type": "code",
   "execution_count": 13,
   "id": "310c3d67",
   "metadata": {},
   "outputs": [
    {
     "data": {
      "text/plain": [
       "Index(['Alice', 'Jack', 'Molly'], dtype='object')"
      ]
     },
     "execution_count": 13,
     "metadata": {},
     "output_type": "execute_result"
    }
   ],
   "source": [
    "# Podemos pegar os indices, utilizando o atributo 'index'.\n",
    "s.index"
   ]
  },
  {
   "cell_type": "code",
   "execution_count": 14,
   "id": "5822186c",
   "metadata": {},
   "outputs": [
    {
     "data": {
      "text/plain": [
       "0    (Alice, Brown)\n",
       "1     (Jack, White)\n",
       "2    (Molly, Green)\n",
       "dtype: object"
      ]
     },
     "execution_count": 14,
     "metadata": {},
     "output_type": "execute_result"
    }
   ],
   "source": [
    "# O 'dtype=object' não é só para strings, mas para objetos arbitrários.\n",
    "# Exemplo, vamos criar um dado mais complexo, uma lista de tuplas:\n",
    "students = [(\"Alice\",\"Brown\"), (\"Jack\", \"White\"), (\"Molly\", \"Green\")]\n",
    "pd.Series(students)"
   ]
  },
  {
   "cell_type": "code",
   "execution_count": 15,
   "id": "76b10092",
   "metadata": {},
   "outputs": [],
   "source": [
    "# Podemos ver que o 'dtype' é setado como 'object'.\n"
   ]
  },
  {
   "cell_type": "code",
   "execution_count": 16,
   "id": "a9bcc59a",
   "metadata": {},
   "outputs": [
    {
     "data": {
      "text/plain": [
       "Alice      Physics\n",
       "Jack     Chemistry\n",
       "Molly      English\n",
       "dtype: object"
      ]
     },
     "execution_count": 16,
     "metadata": {},
     "output_type": "execute_result"
    }
   ],
   "source": [
    "# Podemos também, ao criar, separar os dados passados dos índices utilizando\n",
    "# uma lista explicitamente.\n",
    "\n",
    "s = pd.Series(['Physics', 'Chemistry', 'English'], index=['Alice', 'Jack', 'Molly'])\n",
    "s"
   ]
  },
  {
   "cell_type": "code",
   "execution_count": 17,
   "id": "d3421309",
   "metadata": {},
   "outputs": [
    {
     "data": {
      "text/plain": [
       "Alice    Physics\n",
       "Molly    English\n",
       "Sam          NaN\n",
       "dtype: object"
      ]
     },
     "execution_count": 17,
     "metadata": {},
     "output_type": "execute_result"
    }
   ],
   "source": [
    "# O que acontece se a nossa lista de indices não estarem alinhadas com as chaves \n",
    "# do dicionário?\n",
    "# Pandas irá automaticamente sobrescrever a favor dos indices que providenciamos.\n",
    "# Então,Pandasirá ignorar as chaves do dicionário que não estão na lista de indices e \n",
    "# irá atribuir None ou NaN aos indices que providenciamos que não possuem um dado no dicionário.\n",
    "students_scores = {'Alice': 'Physics',\n",
    "                   'Jack': 'Chemistry',\n",
    "                   'Molly': 'English'}\n",
    "\n",
    "s = pd.Series(students_scores, index=['Alice', 'Molly', 'Sam'])\n",
    "s"
   ]
  },
  {
   "cell_type": "code",
   "execution_count": 18,
   "id": "b05dcfd4",
   "metadata": {},
   "outputs": [],
   "source": [
    "# O resultado é que o objetos Series não possui o \"Jack\" e atribuiu \"None\"\n",
    "# para a \"Sam\""
   ]
  },
  {
   "cell_type": "markdown",
   "id": "533db7a4",
   "metadata": {},
   "source": [
    "### Querying "
   ]
  },
  {
   "cell_type": "code",
   "execution_count": 19,
   "id": "2f7b177b",
   "metadata": {},
   "outputs": [],
   "source": [
    "# Uma Series pode ser consultado pela posição do indice ou pelo nome do index.\n",
    "# Para buscar pela posição do índice utilizamos o atributo 'iloc'.\n",
    "# Para buscar pelo nome do índice,utilizamos o atribudo 'loc'."
   ]
  },
  {
   "cell_type": "code",
   "execution_count": 20,
   "id": "5596187a",
   "metadata": {},
   "outputs": [
    {
     "data": {
      "text/plain": [
       "Alice      Physics\n",
       "Jack     Chemistry\n",
       "Molly      English\n",
       "Sam        History\n",
       "dtype: object"
      ]
     },
     "execution_count": 20,
     "metadata": {},
     "output_type": "execute_result"
    }
   ],
   "source": [
    "import pandas as pd\n",
    "students_classes = {'Alice': 'Physics',\n",
    "                   'Jack': 'Chemistry',\n",
    "                   'Molly': 'English',\n",
    "                   'Sam': 'History'}\n",
    "s = pd.Series(students_classes)\n",
    "s"
   ]
  },
  {
   "cell_type": "code",
   "execution_count": 21,
   "id": "e906e4c6",
   "metadata": {},
   "outputs": [
    {
     "data": {
      "text/plain": [
       "'History'"
      ]
     },
     "execution_count": 21,
     "metadata": {},
     "output_type": "execute_result"
    }
   ],
   "source": [
    "# Se quisermos a quarta entrada da Serie, utilizamos o atributo 'iloc' com o argumento 3\n",
    "s.iloc[3]"
   ]
  },
  {
   "cell_type": "code",
   "execution_count": 22,
   "id": "a1cdccf4",
   "metadata": {},
   "outputs": [
    {
     "data": {
      "text/plain": [
       "'English'"
      ]
     },
     "execution_count": 22,
     "metadata": {},
     "output_type": "execute_result"
    }
   ],
   "source": [
    "# Se quisermos ver qual aula Molly está, utilizamos o atributo 'loc' com o argumento 'Molly'.\n",
    "s.loc[\"Molly\"]"
   ]
  },
  {
   "cell_type": "code",
   "execution_count": 23,
   "id": "2f2e78f1",
   "metadata": {},
   "outputs": [],
   "source": [
    "class_code = {99: 'Physics',\n",
    "              100: 'Chemistry',\n",
    "              101: 'English',\n",
    "              102: 'History'}\n",
    "s = pd.Series(class_code)\n",
    "\n",
    "#Nesse exemplo, podemos utilizar tanto s.iloc[0] quanto s.loc[99]"
   ]
  },
  {
   "cell_type": "code",
   "execution_count": 24,
   "id": "7359266d",
   "metadata": {},
   "outputs": [],
   "source": [
    "# Agora que sabemos como pegar dados em uma Series, vamos trabalhar com esses dados.\n",
    "# Uma abordagem comum é considerar todos os valores dentro de uma série e fazer uma operação."
   ]
  },
  {
   "cell_type": "code",
   "execution_count": 6,
   "id": "6f13fffe",
   "metadata": {},
   "outputs": [
    {
     "name": "stdout",
     "output_type": "stream",
     "text": [
      "75.0\n"
     ]
    }
   ],
   "source": [
    "# Uma abordagem típica é iterar sobre todos os items da series, e invocar alguma operação.\n",
    "# Vamos calcular uma média.\n",
    "\n",
    "grades = pd.Series([90, 80, 70, 60])\n",
    "\n",
    "total = 0\n",
    "for grade in grades:\n",
    "    total+=grade\n",
    "print(total/len(grades))"
   ]
  },
  {
   "cell_type": "code",
   "execution_count": 26,
   "id": "7a05a1d3",
   "metadata": {},
   "outputs": [],
   "source": [
    "# Isso funciona, porém é muito devagar.\n",
    "# Pandas e Numpy suportam um método computacional chamado 'vectorization'. Exemplo a função 'sum'.\n",
    "# 'Vectorization' é a habilidade que um computador tem de executar múltiplas instruções de uma vez,\n",
    "# e com alta performance"
   ]
  },
  {
   "cell_type": "code",
   "execution_count": 27,
   "id": "fd72ec5c",
   "metadata": {},
   "outputs": [
    {
     "name": "stdout",
     "output_type": "stream",
     "text": [
      "75.0\n"
     ]
    }
   ],
   "source": [
    "# Então:\n",
    "import numpy as np\n",
    "total = np.sum(grades)\n",
    "print(total/len(grades))"
   ]
  },
  {
   "cell_type": "markdown",
   "id": "2c16f175",
   "metadata": {},
   "source": [
    "##### timeit — Measure execution time of small code snippets"
   ]
  },
  {
   "cell_type": "code",
   "execution_count": 28,
   "id": "9ce469c8",
   "metadata": {},
   "outputs": [],
   "source": [
    "# Jupyter tem uma função que calcula o tempo de execução de um código.\n",
    "# Para chamar uma função do jupyter, utilizamos o '%%'.\n",
    "# A função %%timeit irá rodar o código algumas vezes para determinar, em média, quanto tempo leva.\n",
    "# Podemos passar o número de loops que queremos executar utilizando o parâmetro '-n'. Por padrão são 1000 loops\n",
    "# Essa funções tem que ser chamadas na primeira linha."
   ]
  },
  {
   "cell_type": "code",
   "execution_count": 10,
   "id": "99975db8",
   "metadata": {},
   "outputs": [],
   "source": [
    "# Vamos criar uma series grande de números aleatórios.\n",
    "numbers = pd.Series(np.random.randint(0,1000,10000))"
   ]
  },
  {
   "cell_type": "code",
   "execution_count": 30,
   "id": "f48d7dbc",
   "metadata": {},
   "outputs": [],
   "source": [
    "# Agora , vamos usar o %%time para calcular a média fazendo uma iteração"
   ]
  },
  {
   "cell_type": "code",
   "execution_count": 31,
   "id": "f3fb0147",
   "metadata": {},
   "outputs": [
    {
     "name": "stdout",
     "output_type": "stream",
     "text": [
      "956 µs ± 38.1 µs per loop (mean ± std. dev. of 7 runs, 100 loops each)\n"
     ]
    }
   ],
   "source": [
    "%%timeit -n 100\n",
    "total = 0\n",
    "for number in numbers:\n",
    "    total+=number\n",
    "\n",
    "total/len(numbers)"
   ]
  },
  {
   "cell_type": "code",
   "execution_count": 32,
   "id": "ab6f5e70",
   "metadata": {},
   "outputs": [],
   "source": [
    "# Agora vamos utilizar a 'vectorization'.\n"
   ]
  },
  {
   "cell_type": "code",
   "execution_count": 35,
   "id": "761e80ab",
   "metadata": {},
   "outputs": [
    {
     "name": "stdout",
     "output_type": "stream",
     "text": [
      "53.4 µs ± 12.6 µs per loop (mean ± std. dev. of 7 runs, 100 loops each)\n"
     ]
    }
   ],
   "source": [
    "%%timeit -n 100\n",
    "total = np.sum(numbers)\n",
    "total/len(numbers)"
   ]
  },
  {
   "cell_type": "markdown",
   "id": "577c475f",
   "metadata": {},
   "source": [
    "#### Broadcasting"
   ]
  },
  {
   "cell_type": "code",
   "execution_count": 47,
   "id": "66b71bad",
   "metadata": {},
   "outputs": [
    {
     "data": {
      "text/plain": [
       "0    250\n",
       "1     98\n",
       "2    748\n",
       "3    148\n",
       "4    783\n",
       "dtype: int32"
      ]
     },
     "execution_count": 47,
     "metadata": {},
     "output_type": "execute_result"
    }
   ],
   "source": [
    "# Pandas e Numpy tem uma característica chamada 'broadcasting'.\n",
    "# Como broadcasting, podemos aplicar uma operação para cada valor na series, mudando ela.\n",
    "# Por exemplo, se quisermos aumentar cada valor de uma série em 2, podemos fazer isso rapidamente utilizando o operado += diretamente na series.\n",
    "numbers.head()"
   ]
  },
  {
   "cell_type": "code",
   "execution_count": 42,
   "id": "860f56c4",
   "metadata": {},
   "outputs": [
    {
     "data": {
      "text/plain": [
       "0    244\n",
       "1     92\n",
       "2    742\n",
       "3    142\n",
       "4    777\n",
       "dtype: int32"
      ]
     },
     "execution_count": 42,
     "metadata": {},
     "output_type": "execute_result"
    }
   ],
   "source": [
    "numbers+=2\n",
    "numbers.head()"
   ]
  },
  {
   "cell_type": "code",
   "execution_count": 48,
   "id": "4e8b68c0",
   "metadata": {},
   "outputs": [
    {
     "data": {
      "text/plain": [
       "<bound method NDFrame.head of 0       252\n",
       "1       100\n",
       "2       750\n",
       "3       150\n",
       "4       785\n",
       "       ... \n",
       "9995    432\n",
       "9996    207\n",
       "9997    344\n",
       "9998    799\n",
       "9999    934\n",
       "Length: 10000, dtype: int32>"
      ]
     },
     "execution_count": 48,
     "metadata": {},
     "output_type": "execute_result"
    }
   ],
   "source": [
    "# Também podemos iterar cada valor da series utilizando a função items() que retorna um 'nome' e um 'valor'.\n",
    "for label,value in numbers.items():\n",
    "    numbers.loc[label]=value+2\n",
    "numbers.head()\n",
    "# Podemos verificar, utilizando o \"%%timeit\" que o método anterior é mais rápido"
   ]
  },
  {
   "cell_type": "code",
   "execution_count": 52,
   "id": "0de108b4",
   "metadata": {},
   "outputs": [
    {
     "name": "stdout",
     "output_type": "stream",
     "text": [
      "0    1\n",
      "1    2\n",
      "2    3\n",
      "dtype: int64\n",
      "0            1\n",
      "1            2\n",
      "2            3\n",
      "History    102\n",
      "dtype: int64\n"
     ]
    }
   ],
   "source": [
    "# O atributo .loc não só nos permite modificar um dado, mas também adicionar um. Se o valor passado no atributo .loc \n",
    "# não existir, então um novo valor será adicionado.\n",
    "# Uma coisa importante é que indices podem ter tipos mistos, mas o que realmente é importante ter cuidado é a tipagem dos dados.\n",
    "s=pd.Series([1,2,3])\n",
    "print(s) # int64\n",
    "\n",
    "s.loc[\"History\"] =102 # Irá mudar o valor de \"History\", mas caso \"History\" não exista, o Pandas irá criar uma chave nova.\n",
    "\n",
    "print(s) #int64"
   ]
  },
  {
   "cell_type": "code",
   "execution_count": 53,
   "id": "7e1e6580",
   "metadata": {},
   "outputs": [
    {
     "data": {
      "text/plain": [
       "Alice      Physics\n",
       "Jack     Chemistry\n",
       "Molly      English\n",
       "Sam        History\n",
       "dtype: object"
      ]
     },
     "execution_count": 53,
     "metadata": {},
     "output_type": "execute_result"
    }
   ],
   "source": [
    "# Vamos ver um exemplo onde os indices não são únicos.\n",
    "students_classes = pd.Series({'Alice': 'Physics',\n",
    "                   'Jack': 'Chemistry',\n",
    "                   'Molly': 'English',\n",
    "                   'Sam': 'History'})\n",
    "students_classes"
   ]
  },
  {
   "cell_type": "code",
   "execution_count": 17,
   "id": "55b23b18",
   "metadata": {},
   "outputs": [
    {
     "data": {
      "text/plain": [
       "Kelly    Philosophy\n",
       "Kelly          Arts\n",
       "Kelly          Math\n",
       "dtype: object"
      ]
     },
     "execution_count": 17,
     "metadata": {},
     "output_type": "execute_result"
    }
   ],
   "source": [
    "# Vamos criar uma Series para uma estudante Kelly com a lista de cursos que ela pegou.\n",
    "kelly_classes = pd.Series(['Philosophy', 'Arts', 'Math'], index=['Kelly', 'Kelly', 'Kelly'])\n",
    "kelly_classes"
   ]
  },
  {
   "cell_type": "code",
   "execution_count": 60,
   "id": "1e4a907c",
   "metadata": {},
   "outputs": [
    {
     "data": {
      "text/plain": [
       "Alice       Physics\n",
       "Jack      Chemistry\n",
       "Molly       English\n",
       "Sam         History\n",
       "Kelly    Philosophy\n",
       "Kelly          Arts\n",
       "Kelly          Math\n",
       "dtype: object"
      ]
     },
     "execution_count": 60,
     "metadata": {},
     "output_type": "execute_result"
    }
   ],
   "source": [
    "# Agora vamos adicionar a estudante Kelly nos outros estudantes utilizando a função concat().\n",
    "all_students_classes = pd.concat([students_classes, kelly_classes])\n",
    "all_students_classes"
   ]
  },
  {
   "cell_type": "code",
   "execution_count": 63,
   "id": "19eb6af8",
   "metadata": {},
   "outputs": [],
   "source": [
    "# Algumas considerações:\n",
    "# 1 - O Pandas irás pegar a Series resultante e tentar inferir o melhor 'dtype'.\n",
    "# 2 - O método concat() não faz cópia por referência, e sim por valor. Ou seja, se mudarmos a Serie final, as Series 'filhas' não serão alteradas."
   ]
  },
  {
   "cell_type": "code",
   "execution_count": 64,
   "id": "e18792c5",
   "metadata": {},
   "outputs": [
    {
     "data": {
      "text/plain": [
       "Kelly    Philosophy\n",
       "Kelly          Arts\n",
       "Kelly          Math\n",
       "dtype: object"
      ]
     },
     "execution_count": 64,
     "metadata": {},
     "output_type": "execute_result"
    }
   ],
   "source": [
    "# Se queremos ver o indice \"Kelly\", não vamos receber apenas um único valor.\n",
    "all_students_classes.loc[\"Kelly\"]"
   ]
  },
  {
   "cell_type": "code",
   "execution_count": null,
   "id": "e89eb7ec",
   "metadata": {},
   "outputs": [],
   "source": []
  }
 ],
 "metadata": {
  "kernelspec": {
   "display_name": "Python 3 (ipykernel)",
   "language": "python",
   "name": "python3"
  },
  "language_info": {
   "codemirror_mode": {
    "name": "ipython",
    "version": 3
   },
   "file_extension": ".py",
   "mimetype": "text/x-python",
   "name": "python",
   "nbconvert_exporter": "python",
   "pygments_lexer": "ipython3",
   "version": "3.10.8"
  }
 },
 "nbformat": 4,
 "nbformat_minor": 5
}
