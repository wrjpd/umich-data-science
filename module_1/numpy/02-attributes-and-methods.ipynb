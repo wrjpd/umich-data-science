{
 "cells": [
  {
   "cell_type": "markdown",
   "id": "3effac2d",
   "metadata": {},
   "source": [
    "# Attributes and Methods\n",
    "\n",
    "#### Some attributes\n",
    "\n",
    "* **ndarray.ndim**: Número de axes (dimensões) do array;\n",
    "* **ndarray.shape**: Tupla tupla de inteiros contendo o tamanho de cada dimensão. Portando, o comprimento da tupla é o número de axes;\n",
    "* **ndarray.size**: Número total de elementos do array. É igual ao produto dos elementos do shape;\n",
    "* **ndarray.dtpye**: Um objeto descrevendo os tipos de elementos do array;\n",
    "* **ndarray.itemsize**: O tamanho em bytes de cada elemento do array\n",
    "* **ndarray.data**: Buffer contendo os atuais elementos do array;\n",
    "\n",
    "#### Some methods\n",
    "\n",
    "* **ndarray.reshape()**: Refatora o shape do array;\n",
    "* **ndarray.max()**: Retorna o maior elemento do array;\n",
    "* **ndarray.min()**: Retorna o menor elemento do array;\n",
    "* **ndarray.argmax()**: Retorna a posição do maior elemento do array;\n",
    "* **ndarray.argmin()**: Retorna a posição do menor elemento do array;\n",
    "* **ndarray.sum()**: Retorna a soma dos elementos do array;\n",
    "* **ndarray.mean()**: Retorna a média dos elementos do array"
   ]
  },
  {
   "cell_type": "code",
   "execution_count": 38,
   "id": "bf6b62a4",
   "metadata": {},
   "outputs": [],
   "source": [
    "import numpy as np\n",
    "array=np.array([[1,2,3],[4,5,6],[7,8,9],[10,11,12]])"
   ]
  },
  {
   "cell_type": "markdown",
   "id": "d61fd73e",
   "metadata": {},
   "source": [
    "## Exemplos atributos\n"
   ]
  },
  {
   "cell_type": "markdown",
   "id": "6c236e57",
   "metadata": {},
   "source": [
    "**ndmin**"
   ]
  },
  {
   "cell_type": "code",
   "execution_count": 30,
   "id": "9b449d1e",
   "metadata": {},
   "outputs": [
    {
     "data": {
      "text/plain": [
       "2"
      ]
     },
     "execution_count": 30,
     "metadata": {},
     "output_type": "execute_result"
    }
   ],
   "source": [
    "arraya.ndim"
   ]
  },
  {
   "cell_type": "markdown",
   "id": "c292c235",
   "metadata": {},
   "source": [
    "**shape**"
   ]
  },
  {
   "cell_type": "code",
   "execution_count": 31,
   "id": "b036f765",
   "metadata": {},
   "outputs": [
    {
     "data": {
      "text/plain": [
       "(3, 3)"
      ]
     },
     "execution_count": 31,
     "metadata": {},
     "output_type": "execute_result"
    }
   ],
   "source": [
    "array.shape"
   ]
  },
  {
   "cell_type": "markdown",
   "id": "729733a4",
   "metadata": {},
   "source": [
    "**size**"
   ]
  },
  {
   "cell_type": "code",
   "execution_count": 32,
   "id": "345f704f",
   "metadata": {},
   "outputs": [
    {
     "data": {
      "text/plain": [
       "9"
      ]
     },
     "execution_count": 32,
     "metadata": {},
     "output_type": "execute_result"
    }
   ],
   "source": [
    "array.size"
   ]
  },
  {
   "cell_type": "markdown",
   "id": "704e275f",
   "metadata": {},
   "source": [
    "**dtype**"
   ]
  },
  {
   "cell_type": "code",
   "execution_count": 34,
   "id": "ad7ca1fc",
   "metadata": {},
   "outputs": [
    {
     "data": {
      "text/plain": [
       "dtype('int32')"
      ]
     },
     "execution_count": 34,
     "metadata": {},
     "output_type": "execute_result"
    }
   ],
   "source": [
    "array.dtype"
   ]
  },
  {
   "cell_type": "markdown",
   "id": "eaf94acf",
   "metadata": {},
   "source": [
    "**itemsize**"
   ]
  },
  {
   "cell_type": "code",
   "execution_count": 36,
   "id": "33e76be1",
   "metadata": {},
   "outputs": [
    {
     "data": {
      "text/plain": [
       "4"
      ]
     },
     "execution_count": 36,
     "metadata": {},
     "output_type": "execute_result"
    }
   ],
   "source": [
    "array.itemsize"
   ]
  },
  {
   "cell_type": "markdown",
   "id": "602cba7a",
   "metadata": {},
   "source": [
    "**data**"
   ]
  },
  {
   "cell_type": "code",
   "execution_count": 37,
   "id": "92408809",
   "metadata": {},
   "outputs": [
    {
     "data": {
      "text/plain": [
       "<memory at 0x0000021C9443CD40>"
      ]
     },
     "execution_count": 37,
     "metadata": {},
     "output_type": "execute_result"
    }
   ],
   "source": [
    "array.data"
   ]
  },
  {
   "cell_type": "markdown",
   "id": "f0c254f7",
   "metadata": {},
   "source": [
    "## Exemplos métodos"
   ]
  },
  {
   "cell_type": "markdown",
   "id": "cf3e740a",
   "metadata": {},
   "source": [
    "**reshape()**"
   ]
  },
  {
   "cell_type": "code",
   "execution_count": 43,
   "id": "cb9368ad",
   "metadata": {},
   "outputs": [
    {
     "data": {
      "text/plain": [
       "array([[ 1,  2,  3,  4],\n",
       "       [ 5,  6,  7,  8],\n",
       "       [ 9, 10, 11, 12]])"
      ]
     },
     "execution_count": 43,
     "metadata": {},
     "output_type": "execute_result"
    }
   ],
   "source": [
    "newarray=array.reshape(3,4)\n",
    "newarray"
   ]
  },
  {
   "cell_type": "markdown",
   "id": "3285256c",
   "metadata": {},
   "source": [
    "**max()**"
   ]
  },
  {
   "cell_type": "code",
   "execution_count": 45,
   "id": "9f38b0eb",
   "metadata": {},
   "outputs": [
    {
     "data": {
      "text/plain": [
       "12"
      ]
     },
     "execution_count": 45,
     "metadata": {},
     "output_type": "execute_result"
    }
   ],
   "source": [
    "array.max()"
   ]
  },
  {
   "cell_type": "markdown",
   "id": "23921e18",
   "metadata": {},
   "source": [
    "**min()**"
   ]
  },
  {
   "cell_type": "code",
   "execution_count": 46,
   "id": "d6f444dc",
   "metadata": {},
   "outputs": [
    {
     "data": {
      "text/plain": [
       "1"
      ]
     },
     "execution_count": 46,
     "metadata": {},
     "output_type": "execute_result"
    }
   ],
   "source": [
    "array.min()"
   ]
  },
  {
   "cell_type": "markdown",
   "id": "21094813",
   "metadata": {},
   "source": [
    "**argmax()**"
   ]
  },
  {
   "cell_type": "code",
   "execution_count": 47,
   "id": "83ea77d4",
   "metadata": {},
   "outputs": [
    {
     "data": {
      "text/plain": [
       "11"
      ]
     },
     "execution_count": 47,
     "metadata": {},
     "output_type": "execute_result"
    }
   ],
   "source": [
    "array.argmax()"
   ]
  },
  {
   "cell_type": "markdown",
   "id": "9c4c5ff1",
   "metadata": {},
   "source": [
    "**argmin()**"
   ]
  },
  {
   "cell_type": "code",
   "execution_count": 49,
   "id": "91d606ee",
   "metadata": {},
   "outputs": [
    {
     "data": {
      "text/plain": [
       "0"
      ]
     },
     "execution_count": 49,
     "metadata": {},
     "output_type": "execute_result"
    }
   ],
   "source": [
    "array.argmin()"
   ]
  },
  {
   "cell_type": "markdown",
   "id": "65e06bfb",
   "metadata": {},
   "source": [
    "**sum()**"
   ]
  },
  {
   "cell_type": "code",
   "execution_count": 56,
   "id": "02330797",
   "metadata": {},
   "outputs": [
    {
     "data": {
      "text/plain": [
       "78"
      ]
     },
     "execution_count": 56,
     "metadata": {},
     "output_type": "execute_result"
    }
   ],
   "source": [
    "array.sum()"
   ]
  },
  {
   "cell_type": "code",
   "execution_count": 57,
   "id": "19a507af",
   "metadata": {},
   "outputs": [
    {
     "data": {
      "text/plain": [
       "array([22, 26, 30])"
      ]
     },
     "execution_count": 57,
     "metadata": {},
     "output_type": "execute_result"
    }
   ],
   "source": [
    "array.sum(axis=0) #columns"
   ]
  },
  {
   "cell_type": "code",
   "execution_count": 58,
   "id": "b8d91a3c",
   "metadata": {},
   "outputs": [
    {
     "data": {
      "text/plain": [
       "array([ 6, 15, 24, 33])"
      ]
     },
     "execution_count": 58,
     "metadata": {},
     "output_type": "execute_result"
    }
   ],
   "source": [
    "array.sum(axis=1) #rows"
   ]
  },
  {
   "cell_type": "markdown",
   "id": "a4c0fdf3",
   "metadata": {},
   "source": [
    "**mean()**"
   ]
  },
  {
   "cell_type": "code",
   "execution_count": 53,
   "id": "e60096fb",
   "metadata": {},
   "outputs": [
    {
     "data": {
      "text/plain": [
       "6.5"
      ]
     },
     "execution_count": 53,
     "metadata": {},
     "output_type": "execute_result"
    }
   ],
   "source": [
    "array.mean()"
   ]
  },
  {
   "cell_type": "code",
   "execution_count": 59,
   "id": "79565523",
   "metadata": {},
   "outputs": [
    {
     "data": {
      "text/plain": [
       "array([5.5, 6.5, 7.5])"
      ]
     },
     "execution_count": 59,
     "metadata": {},
     "output_type": "execute_result"
    }
   ],
   "source": [
    "array.mean(axis=0) #columns"
   ]
  },
  {
   "cell_type": "code",
   "execution_count": 60,
   "id": "459e9e6c",
   "metadata": {},
   "outputs": [
    {
     "data": {
      "text/plain": [
       "array([ 2.,  5.,  8., 11.])"
      ]
     },
     "execution_count": 60,
     "metadata": {},
     "output_type": "execute_result"
    }
   ],
   "source": [
    "array.mean(axis=1) #rows"
   ]
  }
 ],
 "metadata": {
  "kernelspec": {
   "display_name": "Python 3 (ipykernel)",
   "language": "python",
   "name": "python3"
  },
  "language_info": {
   "codemirror_mode": {
    "name": "ipython",
    "version": 3
   },
   "file_extension": ".py",
   "mimetype": "text/x-python",
   "name": "python",
   "nbconvert_exporter": "python",
   "pygments_lexer": "ipython3",
   "version": "3.10.8"
  }
 },
 "nbformat": 4,
 "nbformat_minor": 5
}
