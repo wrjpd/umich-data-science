{
 "cells": [
  {
   "cell_type": "markdown",
   "id": "cc811401",
   "metadata": {},
   "source": [
    "# Numpy\n",
    "\n",
    "Numpy é um pacote fundamental para computação científica em Python. \n",
    "\n",
    "#### Numpy's features:\n",
    "* **Vectorization**: A vetorialização descreve a ausência de loop explícito, indexação, etc. Com ela podemos executar operações matemáticas em matrizes inteiras, eliminando a necessidade de percorrer elementos individuais.\n",
    "* **Broadcasting**: Termo usado para descrever o implícito comportamento elemento a elemento das operações. Ao multiplicar uma matriz por um escalar, o escalar é \"esticado\" para se tornar uma matriz da mesma forma que a matriz e a operação funcionar.\n",
    "\n",
    "\n",
    "O coração do numpy é o objeto `ndarray`. Ele encapsula arrays n-dimensionais de tipos de dados homogêneos. Em numpy dimensões são chamadas de `axes` (eixos). Por exemplo, o array de coordenadas em um ponto 3D no espaço `[1,2,3]` tem um axis(eixo) e esse axis tem 3 elementos, ou seja, tem comprimento 3. No exemplo abaixo, o array tem 2 axis, o primeiro(linhas) tem comprimento 2 e o segundos axis(colunas) tem comprimento 3.\n",
    "\n",
    "`[[1., 0., 0.],`\n",
    "`[0., 1., 2.]]`\n",
    "\n",
    "#### Some attributes\n",
    "\n",
    "* **ndarray.ndim**: retorna o número de axes (dimensões) do array\n",
    "* **ndarray.shape**: retorna uma tupla de inteiros contendo o tamanho de cada dimensão. Portando, o comprimento da tupla é o número de axes\n"
   ]
  },
  {
   "cell_type": "code",
   "execution_count": 40,
   "id": "b7c90bc6",
   "metadata": {},
   "outputs": [],
   "source": [
    "a=np.array([[2,3,4],[5,6,7]])"
   ]
  },
  {
   "cell_type": "code",
   "execution_count": 43,
   "id": "a484623a",
   "metadata": {},
   "outputs": [
    {
     "data": {
      "text/plain": [
       "2"
      ]
     },
     "execution_count": 43,
     "metadata": {},
     "output_type": "execute_result"
    }
   ],
   "source": [
    "len(a)"
   ]
  },
  {
   "cell_type": "code",
   "execution_count": 42,
   "id": "43e87797",
   "metadata": {},
   "outputs": [
    {
     "data": {
      "text/plain": [
       "2"
      ]
     },
     "execution_count": 42,
     "metadata": {},
     "output_type": "execute_result"
    }
   ],
   "source": [
    "a.ndim"
   ]
  },
  {
   "cell_type": "code",
   "execution_count": null,
   "id": "673d0f78",
   "metadata": {},
   "outputs": [],
   "source": []
  }
 ],
 "metadata": {
  "kernelspec": {
   "display_name": "Python 3 (ipykernel)",
   "language": "python",
   "name": "python3"
  },
  "language_info": {
   "codemirror_mode": {
    "name": "ipython",
    "version": 3
   },
   "file_extension": ".py",
   "mimetype": "text/x-python",
   "name": "python",
   "nbconvert_exporter": "python",
   "pygments_lexer": "ipython3",
   "version": "3.10.6"
  }
 },
 "nbformat": 4,
 "nbformat_minor": 5
}
