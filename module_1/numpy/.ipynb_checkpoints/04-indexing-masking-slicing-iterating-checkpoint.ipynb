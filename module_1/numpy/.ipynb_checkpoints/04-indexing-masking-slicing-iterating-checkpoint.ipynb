{
 "cells": [
  {
   "cell_type": "markdown",
   "id": "a82c256b",
   "metadata": {},
   "source": [
    "# Indexing, Slicing and Iteranting"
   ]
  },
  {
   "cell_type": "code",
   "execution_count": 4,
   "id": "1db39c94",
   "metadata": {},
   "outputs": [],
   "source": [
    "import numpy as np"
   ]
  },
  {
   "cell_type": "markdown",
   "id": "1d44c141",
   "metadata": {},
   "source": [
    "## Indexing and Slicing"
   ]
  },
  {
   "cell_type": "markdown",
   "id": "ae5324f5",
   "metadata": {},
   "source": [
    "**Array 1D**\n",
    "\n",
    "array[i]"
   ]
  },
  {
   "cell_type": "markdown",
   "id": "905725ec",
   "metadata": {},
   "source": [
    "## Indexing and Slicing\n",
    "\n",
    "slicing faz shallow copy"
   ]
  },
  {
   "cell_type": "code",
   "execution_count": 7,
   "id": "4e758cf2",
   "metadata": {},
   "outputs": [],
   "source": [
    "a=np.array([1,2,3,4,5])"
   ]
  },
  {
   "cell_type": "markdown",
   "id": "07aefa41",
   "metadata": {},
   "source": [
    "**Array 2D**\n",
    "\n",
    "array[i,j]"
   ]
  },
  {
   "cell_type": "code",
   "execution_count": 9,
   "id": "bb941d0d",
   "metadata": {},
   "outputs": [
    {
     "data": {
      "text/plain": [
       "array([3, 6])"
      ]
     },
     "execution_count": 9,
     "metadata": {},
     "output_type": "execute_result"
    }
   ],
   "source": [
    "b=np.array([[1,2,3],[4,5,6]])\n",
    "b[0:2,2]"
   ]
  },
  {
   "cell_type": "markdown",
   "id": "b40117cb",
   "metadata": {},
   "source": [
    "**Array 3D**\n",
    "\n",
    "array[i,j,k]"
   ]
  },
  {
   "cell_type": "code",
   "execution_count": 23,
   "id": "791ac628",
   "metadata": {},
   "outputs": [
    {
     "data": {
      "text/plain": [
       "array([[10, 12, 13]])"
      ]
     },
     "execution_count": 23,
     "metadata": {},
     "output_type": "execute_result"
    }
   ],
   "source": [
    "c = np.array([[[  0,  1,  2],\n",
    "               [ 10, 12, 13]],\n",
    "              [[100, 101, 102],\n",
    "               [110, 112, 113]]])\n",
    "c[0,1:,0:]"
   ]
  },
  {
   "cell_type": "markdown",
   "id": "7b3d3012",
   "metadata": {},
   "source": [
    "## Boolean Masking\n",
    "\n",
    "Boolean masking nos permite selecionar elementos arbitrários baseados em condições."
   ]
  },
  {
   "cell_type": "code",
   "execution_count": 24,
   "id": "33bb6c4c",
   "metadata": {},
   "outputs": [
    {
     "data": {
      "text/plain": [
       "array([[False, False,  True],\n",
       "       [ True,  True,  True]])"
      ]
     },
     "execution_count": 24,
     "metadata": {},
     "output_type": "execute_result"
    }
   ],
   "source": [
    "booleanarray=np.array([[1,2,3],[4,5,6]])\n",
    "b>2"
   ]
  },
  {
   "cell_type": "markdown",
   "id": "ca55b5c8",
   "metadata": {},
   "source": [
    "**Podemos colocar esse array de booleanos como uma máscara sobre o array original.**"
   ]
  },
  {
   "cell_type": "code",
   "execution_count": 25,
   "id": "3e6c4724",
   "metadata": {},
   "outputs": [
    {
     "data": {
      "text/plain": [
       "array([3, 4, 5, 6])"
      ]
     },
     "execution_count": 25,
     "metadata": {},
     "output_type": "execute_result"
    }
   ],
   "source": [
    "b[b>2]"
   ]
  },
  {
   "cell_type": "markdown",
   "id": "e8a5ab48",
   "metadata": {},
   "source": [
    "## Iterating"
   ]
  },
  {
   "cell_type": "code",
   "execution_count": 26,
   "id": "c6e222d1",
   "metadata": {},
   "outputs": [],
   "source": [
    "iteratingarray=np.array([[1,2,3],[4,5,6]])"
   ]
  },
  {
   "cell_type": "markdown",
   "id": "85edc01c",
   "metadata": {},
   "source": [
    "**rows**"
   ]
  },
  {
   "cell_type": "code",
   "execution_count": 27,
   "id": "d55375a8",
   "metadata": {},
   "outputs": [
    {
     "name": "stdout",
     "output_type": "stream",
     "text": [
      "[1 2 3]\n",
      "[4 5 6]\n"
     ]
    }
   ],
   "source": [
    "for rows in iteratingarray:\n",
    "    print(rows)"
   ]
  },
  {
   "cell_type": "markdown",
   "id": "83ac76b2",
   "metadata": {},
   "source": [
    "**elements**"
   ]
  },
  {
   "cell_type": "code",
   "execution_count": 28,
   "id": "6c55311f",
   "metadata": {},
   "outputs": [
    {
     "name": "stdout",
     "output_type": "stream",
     "text": [
      "1\n",
      "2\n",
      "3\n",
      "4\n",
      "5\n",
      "6\n"
     ]
    }
   ],
   "source": [
    "for element in b.flat:\n",
    "    print(element)"
   ]
  },
  {
   "cell_type": "code",
   "execution_count": null,
   "id": "cb019181",
   "metadata": {},
   "outputs": [],
   "source": []
  }
 ],
 "metadata": {
  "kernelspec": {
   "display_name": "Python 3 (ipykernel)",
   "language": "python",
   "name": "python3"
  },
  "language_info": {
   "codemirror_mode": {
    "name": "ipython",
    "version": 3
   },
   "file_extension": ".py",
   "mimetype": "text/x-python",
   "name": "python",
   "nbconvert_exporter": "python",
   "pygments_lexer": "ipython3",
   "version": "3.10.8"
  }
 },
 "nbformat": 4,
 "nbformat_minor": 5
}
