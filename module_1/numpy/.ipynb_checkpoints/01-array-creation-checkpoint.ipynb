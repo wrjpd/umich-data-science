{
 "cells": [
  {
   "cell_type": "markdown",
   "id": "cc811401",
   "metadata": {},
   "source": [
    "# Numpy\n",
    "\n",
    "Numpy é um pacote fundamental para computação científica em Python. \n",
    "\n",
    "#### Numpy's features:\n",
    "* **Vectorization**: A vetorialização descreve a ausência de loop explícito, indexação, etc. Com ela podemos executar operações matemáticas em matrizes inteiras, eliminando a necessidade de percorrer elementos individuais.\n",
    "* **Broadcasting**: Termo usado para descrever o implícito comportamento elemento a elemento das operações. Ao multiplicar uma matriz por um escalar, o escalar é \"esticado\" para se tornar uma matriz da mesma forma que a matriz e a operação funcionar.\n",
    "\n",
    "\n",
    "O coração do numpy é o objeto `ndarray`. Ele encapsula arrays n-dimensionais de tipos de dados homogêneos. Em numpy dimensões são chamadas de `axes` (eixos). Por exemplo, o array de coordenadas em um ponto 3D no espaço `[1,2,3]` tem um axis(eixo) e esse axis tem 3 elementos, ou seja, tem comprimento 3. No exemplo abaixo, o array tem 2 axis, o primeiro(linhas) tem comprimento 2 e o segundos axis(colunas) tem comprimento 3.\n",
    "\n",
    "`[[1., 0., 0.],`\n",
    "`[0., 1., 2.]]`\n",
    "\n",
    "#### Some attributes\n",
    "\n",
    "* **ndarray.ndim**: Número de axes (dimensões) do array;\n",
    "* **ndarray.shape**: Tupla tupla de inteiros contendo o tamanho de cada dimensão. Portando, o comprimento da tupla é o número de axes;\n",
    "* **ndarray.size**: Número total de elementos do array. É igual ao produto dos elementos do shape;\n",
    "* **ndarray.dtpye**: Um objeto descrevendo os tipos de elementos do array;\n",
    "* **ndarray.itemsize**: O tamanho em bytes de cada elemento do array\n",
    "* **ndarray.data**: Buffer contendo os atuais elementos do array;\n",
    "\n"
   ]
  },
  {
   "cell_type": "markdown",
   "id": "5b632a0b",
   "metadata": {},
   "source": [
    "## Array Creation\n",
    "\n",
    "Existem diferentes formas de criar um array\n",
    "\n",
    "* **np.array()**: Cria um array a partir de uma lista ou tupla;\n",
    "* **np.zeros()**: Cria um array de 0 a partir de uma tupla com 2 elementos representando o shape;\n",
    "* **np.ones()**: Cria um array de 1 a partir de uma tupla com 2 elementos representando o shape;\n",
    "* **np.empty()**: Cria um array com entradas aleatórias e depende do estado da memória a partir  de uma tupla com 2 elementos representando o shape;\n",
    "* **np.arange()**: Cria um array com uma sequência de números.Pode ser passado um step;\n",
    "* **np.linspace()**: Cria um array com uma sequência de números. Pode ser passado um intervalo;\n",
    "* **np.eye()**: Cria uma matrix identidade;\n",
    "\n",
    "Existem formas de criar um array a partir de outro array:\n",
    "\n",
    "* **np.zeros_like()**: Retorna um novo array de 0's com o mesmo shape do array passado;\n",
    "* **np.empty_like()**: Retorna um novo array com números aleatórios com o mesmo shape do array passado;\n",
    "* **np.ones_like()**: Retorna um novo array de 1's com o mesmo shape do array passado; \n",
    "\n",
    "Criar array a partir de função:\n",
    "\n",
    "* **np.fromfunction()**: Constrói um array ao executar uma função sobre cada coordenada;\n",
    "\n",
    "Criar array a partir de um arquivo:\n",
    "\n",
    "* **np.fromfile()**: Constrói um array a partir de dados em um arquivo de texto ou binário;\n",
    "\n",
    "\n",
    "Criar array a partir do pacote **random**:\n",
    "\n",
    "* **np.random.rand()**: Cria um array com números aleatórios de 0 a 1 a partir de uma tupla com 1,2 ou mais elementos;\n",
    "* **np.random.randn()**: Cria um array  com números de uma distribuição normal a partir de uma tupla com 1,2 ou mais elementos;\n",
    "* **np.random.randint()**: Cria um array  com números de uma distribuição normal a partir de uma tupla com 3 ou mais elementos;"
   ]
  },
  {
   "cell_type": "markdown",
   "id": "9ed6aa83",
   "metadata": {},
   "source": [
    "### Exemplos:\n"
   ]
  },
  {
   "cell_type": "code",
   "execution_count": 16,
   "id": "2acc0ab1",
   "metadata": {},
   "outputs": [
    {
     "name": "stdout",
     "output_type": "stream",
     "text": [
      "[1 2 3]\n"
     ]
    }
   ],
   "source": [
    "import numpy as np\n",
    "arraylist_a=np.array([1,2,3])\n",
    "print(arraylist_a)"
   ]
  },
  {
   "cell_type": "code",
   "execution_count": 17,
   "id": "f57e6b35",
   "metadata": {},
   "outputs": [
    {
     "name": "stdout",
     "output_type": "stream",
     "text": [
      "[[1 2 3]\n",
      " [4 5 6]]\n"
     ]
    }
   ],
   "source": [
    "arraylist_b=np.array([[1,2,3],[4,5,6]])\n",
    "print(arraylist_b)"
   ]
  },
  {
   "cell_type": "code",
   "execution_count": 11,
   "id": "5f0a016d",
   "metadata": {},
   "outputs": [
    {
     "name": "stdout",
     "output_type": "stream",
     "text": [
      "[10 13 16 19 22 25 28 31 34 37 40 43 46 49]\n"
     ]
    }
   ],
   "source": [
    "arrayarange=np.arange(10,50,3) # 3 aqui é como o step do range em python\n",
    "print(arrayarange)"
   ]
  },
  {
   "cell_type": "code",
   "execution_count": 12,
   "id": "ffb89e07",
   "metadata": {},
   "outputs": [
    {
     "name": "stdout",
     "output_type": "stream",
     "text": [
      "[10. 30. 50.]\n"
     ]
    }
   ],
   "source": [
    "arraylinspace=np.linspace(10,50,3) # 3 aqui é quantos números queremos\n",
    "print(arraylinspace)"
   ]
  },
  {
   "cell_type": "code",
   "execution_count": 32,
   "id": "5cccfb9d",
   "metadata": {},
   "outputs": [
    {
     "name": "stdout",
     "output_type": "stream",
     "text": [
      "[[0. 0. 0.]\n",
      " [0. 0. 0.]]\n",
      "\n",
      "[[1. 1. 1.]\n",
      " [1. 1. 1.]]\n",
      "\n",
      "[[1. 1. 1.]\n",
      " [1. 1. 1.]]\n"
     ]
    }
   ],
   "source": [
    "arrayzeros=np.zeros((2,3))\n",
    "arrayones=np.ones((2,3))\n",
    "arrayempty=np.empty((2,3))\n",
    "\n",
    "print(arrayzeros)\n",
    "print(\"\")\n",
    "print(arrayones)\n",
    "print(\"\")\n",
    "print(arrayempty)"
   ]
  },
  {
   "cell_type": "code",
   "execution_count": 46,
   "id": "8fbdf2f0",
   "metadata": {},
   "outputs": [
    {
     "name": "stdout",
     "output_type": "stream",
     "text": [
      "[0.44707438 0.80981364 0.51508238]\n",
      "\n",
      "[[0.94439081 0.85480468 0.55062985]\n",
      " [0.84489343 0.50319796 0.24566242]]\n",
      "\n",
      "[[[0.95471119 0.88920188 0.49208987 0.69186922]\n",
      "  [0.2131328  0.52833329 0.96403927 0.56849096]\n",
      "  [0.6487533  0.18248994 0.24407571 0.98585341]]\n",
      "\n",
      " [[0.82042146 0.81031524 0.9408081  0.06664856]\n",
      "  [0.24464869 0.0268391  0.35051536 0.45361355]\n",
      "  [0.33670583 0.15621219 0.948799   0.42350703]]]\n"
     ]
    }
   ],
   "source": [
    "random1D=np.random.rand(3)\n",
    "random2D=np.random.rand(2,3)\n",
    "random3D=np.random.rand(2,3,4)\n",
    "print(random1D)\n",
    "print(\"\")\n",
    "print(random2D)\n",
    "print(\"\")\n",
    "print(random3D)"
   ]
  },
  {
   "cell_type": "code",
   "execution_count": 63,
   "id": "4489142b",
   "metadata": {},
   "outputs": [
    {
     "name": "stdout",
     "output_type": "stream",
     "text": [
      "[[ 0.51519898  1.49770873 -0.86096016 -1.62727519  1.85137916]\n",
      " [ 1.30469203  0.00794404  0.90018398  1.4985903  -1.15152629]\n",
      " [-0.75240816  1.34553724 -0.46278056 -1.9506792  -0.36653074]\n",
      " [-0.86955492 -0.21252899  0.58058568  0.82368604 -0.30389479]\n",
      " [-0.00870302 -0.97236704  1.60461253  1.49590973  1.31575251]]\n"
     ]
    }
   ],
   "source": [
    "randomrandn=np.random.randn(5,5)\n",
    "print(randomrandn)"
   ]
  },
  {
   "cell_type": "code",
   "execution_count": 69,
   "id": "92863a60",
   "metadata": {},
   "outputs": [
    {
     "name": "stdout",
     "output_type": "stream",
     "text": [
      "51\n",
      "[ 7 93 22 53]\n"
     ]
    }
   ],
   "source": [
    "randomrandint1D=np.random.randint(1,100) # Gera um número\n",
    "randomrandint=np.random.randint(1,100,4) # Gera um array\n",
    "print(randomrandint1D)\n",
    "print(randomrandint)"
   ]
  }
 ],
 "metadata": {
  "kernelspec": {
   "display_name": "Python 3 (ipykernel)",
   "language": "python",
   "name": "python3"
  },
  "language_info": {
   "codemirror_mode": {
    "name": "ipython",
    "version": 3
   },
   "file_extension": ".py",
   "mimetype": "text/x-python",
   "name": "python",
   "nbconvert_exporter": "python",
   "pygments_lexer": "ipython3",
   "version": "3.10.8"
  }
 },
 "nbformat": 4,
 "nbformat_minor": 5
}
