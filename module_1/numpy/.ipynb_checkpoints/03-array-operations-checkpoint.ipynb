{
 "cells": [
  {
   "cell_type": "markdown",
   "id": "876fab4c",
   "metadata": {},
   "source": [
    "# Array Operations\n",
    "\n",
    "Operações aritméticas em array são aplicam *elementwise*. Um novo array é criado como resultado.\n",
    "\n",
    "Operadores do tipo **+=** e ***=** modificam um array existente ao invés de criar um novo."
   ]
  },
  {
   "cell_type": "code",
   "execution_count": 11,
   "id": "aac2c504",
   "metadata": {},
   "outputs": [],
   "source": [
    "import numpy as np\n",
    "a=np.array([[1, 1],\n",
    "              [0, 1]])\n",
    "b=np.array([[2, 0],\n",
    "              [3, 4]])"
   ]
  },
  {
   "cell_type": "markdown",
   "id": "bc32b751",
   "metadata": {},
   "source": [
    "**Subtração ou soma**"
   ]
  },
  {
   "cell_type": "code",
   "execution_count": 13,
   "id": "20004d07",
   "metadata": {},
   "outputs": [
    {
     "data": {
      "text/plain": [
       "array([[3, 1],\n",
       "       [3, 5]])"
      ]
     },
     "execution_count": 13,
     "metadata": {},
     "output_type": "execute_result"
    }
   ],
   "source": [
    "c=a+b\n",
    "c"
   ]
  },
  {
   "cell_type": "markdown",
   "id": "9f018fcf",
   "metadata": {},
   "source": [
    "**Multiplicação**\n",
    "Ao contrário de matrizes, o operador * opera *elementwise*."
   ]
  },
  {
   "cell_type": "code",
   "execution_count": 14,
   "id": "e82fbcc8",
   "metadata": {},
   "outputs": [
    {
     "data": {
      "text/plain": [
       "array([[4, 0],\n",
       "       [6, 8]])"
      ]
     },
     "execution_count": 14,
     "metadata": {},
     "output_type": "execute_result"
    }
   ],
   "source": [
    "b*2"
   ]
  },
  {
   "cell_type": "markdown",
   "id": "423c2437",
   "metadata": {},
   "source": [
    "**Produto Matricial**"
   ]
  },
  {
   "cell_type": "code",
   "execution_count": 15,
   "id": "5440f34a",
   "metadata": {},
   "outputs": [
    {
     "data": {
      "text/plain": [
       "array([[5, 4],\n",
       "       [3, 4]])"
      ]
     },
     "execution_count": 15,
     "metadata": {},
     "output_type": "execute_result"
    }
   ],
   "source": [
    "a@b"
   ]
  },
  {
   "cell_type": "markdown",
   "id": "8ab277bf",
   "metadata": {},
   "source": [
    "**Potência**"
   ]
  },
  {
   "cell_type": "code",
   "execution_count": 23,
   "id": "227d4dd3",
   "metadata": {},
   "outputs": [
    {
     "data": {
      "text/plain": [
       "array([0.       , 2.4674011, 9.8696044])"
      ]
     },
     "execution_count": 23,
     "metadata": {},
     "output_type": "execute_result"
    }
   ],
   "source": [
    "b**2"
   ]
  },
  {
   "cell_type": "markdown",
   "id": "415dd667",
   "metadata": {},
   "source": [
    "## I.Podemos fazer operações inteiras com arrays"
   ]
  },
  {
   "cell_type": "code",
   "execution_count": 24,
   "id": "a9941839",
   "metadata": {},
   "outputs": [
    {
     "data": {
      "text/plain": [
       "array([-10.5,  -0.5,   9.5,  19.5])"
      ]
     },
     "execution_count": 24,
     "metadata": {},
     "output_type": "execute_result"
    }
   ],
   "source": [
    "array1=np.array([10,30,50,70])\n",
    "array2=np.array([1,2,3,4])\n",
    "array3=(array1-31)/2\n",
    "array3\n"
   ]
  },
  {
   "cell_type": "markdown",
   "id": "85afead2",
   "metadata": {},
   "source": [
    "## II.Operações Matriciais"
   ]
  },
  {
   "cell_type": "code",
   "execution_count": 29,
   "id": "6252886b",
   "metadata": {},
   "outputs": [],
   "source": [
    "A_1D=np.array([1,2,3])\n",
    "B_1D=np.array([4,5,6])\n",
    "\n",
    "A = np.array([[1,1],[0,1]])\n",
    "B = np.array([[2,0],[3,4]])"
   ]
  },
  {
   "cell_type": "markdown",
   "id": "4898d3cd",
   "metadata": {},
   "source": [
    "**Produto interno**"
   ]
  },
  {
   "cell_type": "code",
   "execution_count": 30,
   "id": "590d485b",
   "metadata": {},
   "outputs": [
    {
     "data": {
      "text/plain": [
       "32"
      ]
     },
     "execution_count": 30,
     "metadata": {},
     "output_type": "execute_result"
    }
   ],
   "source": [
    "innerProduct=np.inner(A_1D,B_1D)\n",
    "innerProduct"
   ]
  },
  {
   "cell_type": "markdown",
   "id": "7c2ed5d7",
   "metadata": {},
   "source": [
    "**Produto**"
   ]
  },
  {
   "cell_type": "code",
   "execution_count": 31,
   "id": "c34a3a50",
   "metadata": {},
   "outputs": [
    {
     "name": "stdout",
     "output_type": "stream",
     "text": [
      "[[5 4]\n",
      " [3 4]]\n",
      "[[5 4]\n",
      " [3 4]]\n"
     ]
    }
   ],
   "source": [
    "dotProduct=np.dot(A,B)\n",
    "dotProduct2=A@B\n",
    "print(dotProduct)\n",
    "print(dotProduct2)"
   ]
  },
  {
   "cell_type": "markdown",
   "id": "fb096a86",
   "metadata": {},
   "source": [
    "**Transposta**"
   ]
  },
  {
   "cell_type": "code",
   "execution_count": 32,
   "id": "d707e5d7",
   "metadata": {},
   "outputs": [
    {
     "data": {
      "text/plain": [
       "array([[1, 0],\n",
       "       [1, 1]])"
      ]
     },
     "execution_count": 32,
     "metadata": {},
     "output_type": "execute_result"
    }
   ],
   "source": [
    "transposeMatrix=np.transpose(A)\n",
    "transposeMatrix"
   ]
  },
  {
   "cell_type": "markdown",
   "id": "7a024922",
   "metadata": {},
   "source": [
    "**Traço**"
   ]
  },
  {
   "cell_type": "code",
   "execution_count": 34,
   "id": "0bf2361b",
   "metadata": {},
   "outputs": [
    {
     "data": {
      "text/plain": [
       "2"
      ]
     },
     "execution_count": 34,
     "metadata": {},
     "output_type": "execute_result"
    }
   ],
   "source": [
    "trace=A.trace()\n",
    "trace"
   ]
  },
  {
   "cell_type": "markdown",
   "id": "70daae82",
   "metadata": {},
   "source": [
    "**Rank**"
   ]
  },
  {
   "cell_type": "code",
   "execution_count": 36,
   "id": "c42e43c0",
   "metadata": {},
   "outputs": [
    {
     "data": {
      "text/plain": [
       "2"
      ]
     },
     "execution_count": 36,
     "metadata": {},
     "output_type": "execute_result"
    }
   ],
   "source": [
    "rank=np.linalg.matrix_rank(A)\n",
    "rank"
   ]
  },
  {
   "cell_type": "markdown",
   "id": "b44fcb75",
   "metadata": {},
   "source": [
    "**Determinante**"
   ]
  },
  {
   "cell_type": "code",
   "execution_count": 37,
   "id": "2c46ccb1",
   "metadata": {},
   "outputs": [
    {
     "data": {
      "text/plain": [
       "1.0"
      ]
     },
     "execution_count": 37,
     "metadata": {},
     "output_type": "execute_result"
    }
   ],
   "source": [
    "det=np.linalg.det(A)\n",
    "det"
   ]
  },
  {
   "cell_type": "markdown",
   "id": "9bdfa789",
   "metadata": {},
   "source": [
    "**Matriz Inversa**"
   ]
  },
  {
   "cell_type": "code",
   "execution_count": 39,
   "id": "03782ed5",
   "metadata": {},
   "outputs": [
    {
     "data": {
      "text/plain": [
       "array([[ 1., -1.],\n",
       "       [ 0.,  1.]])"
      ]
     },
     "execution_count": 39,
     "metadata": {},
     "output_type": "execute_result"
    }
   ],
   "source": [
    "inverseMatrix=np.linalg.inv(A)\n",
    "inverseMatrix"
   ]
  },
  {
   "cell_type": "markdown",
   "id": "1d71fa0c",
   "metadata": {},
   "source": [
    "**autovalores e autovetores**"
   ]
  },
  {
   "cell_type": "code",
   "execution_count": 41,
   "id": "7b4a0949",
   "metadata": {},
   "outputs": [
    {
     "name": "stdout",
     "output_type": "stream",
     "text": [
      "autovalores: [1. 1.]\n",
      "autovetores: [[ 1.00000000e+00 -1.00000000e+00]\n",
      " [ 0.00000000e+00  2.22044605e-16]]\n"
     ]
    }
   ],
   "source": [
    "eigenvalues,eigenvectors=np.linalg.eig(A)\n",
    "print(\"autovalores:\",eigenvalues)\n",
    "print(\"autovetores:\",eigenvectors)"
   ]
  },
  {
   "cell_type": "code",
   "execution_count": null,
   "id": "0aded8d5",
   "metadata": {},
   "outputs": [],
   "source": []
  }
 ],
 "metadata": {
  "kernelspec": {
   "display_name": "Python 3 (ipykernel)",
   "language": "python",
   "name": "python3"
  },
  "language_info": {
   "codemirror_mode": {
    "name": "ipython",
    "version": 3
   },
   "file_extension": ".py",
   "mimetype": "text/x-python",
   "name": "python",
   "nbconvert_exporter": "python",
   "pygments_lexer": "ipython3",
   "version": "3.10.8"
  }
 },
 "nbformat": 4,
 "nbformat_minor": 5
}
