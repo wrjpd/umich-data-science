{
 "cells": [
  {
   "cell_type": "markdown",
   "id": "478f72e0",
   "metadata": {},
   "source": [
    "# Regex\n",
    "\n",
    "Neste notebook vamos estudar sobre correspondências de padrões utilizando expressões regulares.\n",
    "Podemos pensar em expressões regulares como sendo padrões que passamos para um processo regex com \n",
    "algum dado,como um texto. O processo, então, analisa o texto utilizando esse padrão e retorna pedaços\n",
    "do texto para manipulação.\n",
    "https://www.w3schools.com/python/python_regex.asp\n",
    "\n",
    "Principais razões para se fazer isso:\n",
    "\n",
    "-Checar se um padrão existe nos dados.\n",
    "\n",
    "-Pegar todas as ocorrências de um padrão complexo nos dados.\n",
    "\n",
    "-Limpar os dados.\n",
    "\n"
   ]
  },
  {
   "cell_type": "markdown",
   "id": "bc3776b7",
   "metadata": {},
   "source": [
    "## Metacharacters \n",
    "**Character -- Description -- Example**\n"
   ]
  },
  {
   "cell_type": "code",
   "execution_count": null,
   "id": "cf4b0208",
   "metadata": {},
   "outputs": [],
   "source": [
    "\n",
    "# [] -- Um conjunto de caracteres -- [a-m]\n",
    "\n",
    "# \\ -- Sequência/Caracteres especiais -- \\d\n",
    "\n",
    "# . -- Qualquer caractere(exceto caractere 'newline') -- he..o\n",
    "\n",
    "# ^ -- Começa com  -- ^hello\n",
    " \n",
    "# $ -- Termina com  -- planet$\n",
    "\n",
    "# * -- Nenhuma ou mais ocorrências  -- he.*o\n",
    "\n",
    "# + -- Uma ou mais ocorrências -- he.+o\n",
    "\n",
    "# ? -- Nenhuma ou apenas uma ocorrência -- he?.o\n",
    "\n",
    "# {} -- Especifica exatamente o número de caracteres -- he.{2}o\n",
    "\n",
    "# | -- Ou -- falls|stays\n",
    "\n",
    "# () -- Captura e agrupa\n",
    "\n"
   ]
  },
  {
   "cell_type": "markdown",
   "id": "d5076850",
   "metadata": {},
   "source": [
    "## Special Sequences\n",
    "**Character -- Description -- Example**\n",
    "O \"r\" no começo de alguns exemplos, é para garantir que a string esteja sendo tratada como uma \"raw string\""
   ]
  },
  {
   "cell_type": "markdown",
   "id": "97ec951f",
   "metadata": {},
   "source": [
    "\\A -- Retorna a correspondência se o caractere especificado está na começo da string -- \\AThe\n",
    "\n",
    "\\b -- Retorna a correspondência onde os caracteres especificados estão no começo ou no fim da palavra -- r\"\\bain\" ou r\"ain\\b\n",
    "\n",
    "\\B -- retorna a correspondência onde os caracteres especificados estão presentes, mas não estão no começo ou no fim da palavra -- r\"\\Bain\" ou r\"ain\\B\n",
    "\n",
    "\\d -- retorna a correspondência onde a string contém digitos(0-9) -- \\d\n",
    "\n",
    "\\D -- retorna a correspondência onde a string não contém digitos -- \\D\n",
    "\n",
    "\\s -- retorna a correspondência onde a string contém um espaço em branco -- \\s\n",
    "\n",
    "\\S -- retorna a correspondência onde a string não contém um espaço em branco -- \\S\n",
    "\n",
    "\\w -- retorna a correspondência onde a string contém qualquer caractere de 'a' até 'z', dígitos de 0 a 9 e o caractere '_' -- \\w\n",
    "\n",
    "\\W -- retorna a correspondência onde a string não contém qualquer caractere ou dígito -- \\W\n",
    "\n",
    "\\Z -- retorna a correspondência se o caractere especificado está no final da string -- Spain\\Z\n"
   ]
  },
  {
   "cell_type": "markdown",
   "id": "e44f93d3",
   "metadata": {},
   "source": [
    "## Sets \n",
    "**Character -- Description**"
   ]
  },
  {
   "cell_type": "markdown",
   "id": "12109705",
   "metadata": {},
   "source": [
    "[arn] -- retorna a correspondência onde um dos caracteres especificados (a,r ou n) estão presentes\n",
    "\n",
    "[a-n] -- retorna a correspondência para qualquer letra minúscula entre 'a' e 'n'\n",
    "\n",
    "[^arn] -- retorna a correspondência para qualquer caractere exceto 'a','r' e 'n' minúsculo\n",
    "\n",
    "[0123] -- retorna a correspondência onde qualquer um dos digitos especificados(0,1,2 ou 3) estão presentes\n",
    "\n",
    "[0-9] -- retorna a correspondência para qualquer digito 0 até 9\n",
    "\n",
    "[0-5][0-9] -- retorna a correspondência para qualquer digito de 00 até 59, ou seja, que começa de 0 a 5 e termina de 0 a 9\n",
    "\n",
    "[a-zA-Z] -- retorna a correspondência para qualquer caractere alfabetico entre 'a' e 'z' minusculo OU maiusculo\n",
    "\n",
    "[+] -- retorna a correspondência para qualquer '+' caractere na string"
   ]
  },
  {
   "cell_type": "code",
   "execution_count": 2,
   "id": "2e1b9d9b",
   "metadata": {},
   "outputs": [],
   "source": [
    "import re\n"
   ]
  },
  {
   "cell_type": "code",
   "execution_count": null,
   "id": "cd723c46",
   "metadata": {},
   "outputs": [],
   "source": [
    "# Existem muitas funções do módulo 're'.\n",
    "# Função findall(): retorna uma lista contendo todas as correspondências da pesquisa.\n",
    "# Função search(): retorna um objeto Match se ocorre a correspondência em qualquer lugar da string\n",
    "# Função split(): retorna uma lista contendo strings entre as ocorrências da pesquisa           \n",
    "# Função sub(): substitui um ou mais correspondências\n",
    "\n",
    "# Match Object é um objeto contendo informações sobre a pesquisa e os resultados\n",
    "# Se não houver correspondência, o valor None será retornado.\n",
    "# Match Object possui propriedades e métodos usado para retornar informações sobre a pesquisa e o resultado\n",
    "\n",
    "# -> Propriedade string: retorna a string passada na função.\n",
    "# -> Método span(): retorna uma tupla contendo o inicio e o final da correspondência no texto.\n",
    "# -> Método group() : retorna a parte da string onde ocorreu a correspondência\n"
   ]
  },
  {
   "cell_type": "markdown",
   "id": "b4aec130",
   "metadata": {},
   "source": [
    "### search()\n",
    "retorna um Math Object"
   ]
  },
  {
   "cell_type": "code",
   "execution_count": 19,
   "id": "d32cd6ff",
   "metadata": {},
   "outputs": [
    {
     "name": "stdout",
     "output_type": "stream",
     "text": [
      "This is a good day.\n",
      "(10, 14)\n",
      "good\n"
     ]
    }
   ],
   "source": [
    "text = \"This is a good day.\"\n",
    "\n",
    "match=re.search(\"good\", text)\n",
    "print(match.string)\n",
    "print(match.span())\n",
    "print(match.group())\n",
    "\n",
    "# match"
   ]
  },
  {
   "cell_type": "code",
   "execution_count": null,
   "id": "a621371f",
   "metadata": {},
   "outputs": [],
   "source": []
  },
  {
   "cell_type": "code",
   "execution_count": 14,
   "id": "39515647",
   "metadata": {},
   "outputs": [
    {
     "name": "stdout",
     "output_type": "stream",
     "text": [
      "<re.Match object; span=(10, 14), match='good'>\n"
     ]
    }
   ],
   "source": [
    "print(re.search(\"good\",text))"
   ]
  },
  {
   "cell_type": "markdown",
   "id": "e43a5722",
   "metadata": {},
   "source": [
    "### split()\n",
    "Split segmenta uma string. Isso é chamado de 'tokenizing', onde a string é separada em substrings baseado no padrão escolhido.\n"
   ]
  },
  {
   "cell_type": "code",
   "execution_count": 20,
   "id": "819a5065",
   "metadata": {},
   "outputs": [
    {
     "data": {
      "text/plain": [
       "['',\n",
       " ' works diligently. ',\n",
       " ' gets good grades. Our student ',\n",
       " ' is succesful.',\n",
       " '']"
      ]
     },
     "execution_count": 20,
     "metadata": {},
     "output_type": "execute_result"
    }
   ],
   "source": [
    "text = \"Amy works diligently. Amy gets good grades. Our student Amy is succesful.Amy\"\n",
    "re.split(\"Amy\",text)"
   ]
  },
  {
   "cell_type": "markdown",
   "id": "68924e1b",
   "metadata": {},
   "source": [
    "### findall()\n",
    "retorna as ocorrências da pesquisa"
   ]
  },
  {
   "cell_type": "code",
   "execution_count": 21,
   "id": "87a21377",
   "metadata": {},
   "outputs": [
    {
     "data": {
      "text/plain": [
       "['Amy', 'Amy', 'Amy', 'Amy']"
      ]
     },
     "execution_count": 21,
     "metadata": {},
     "output_type": "execute_result"
    }
   ],
   "source": [
    "re.findall(\"Amy\",text)"
   ]
  },
  {
   "cell_type": "markdown",
   "id": "149ef1f9",
   "metadata": {},
   "source": [
    "### sub()\n",
    "substitui uma ocorrência"
   ]
  },
  {
   "cell_type": "code",
   "execution_count": 22,
   "id": "86c3e987",
   "metadata": {},
   "outputs": [
    {
     "data": {
      "text/plain": [
       "'Marcos works diligently. Marcos gets good grades. Our student Marcos is succesful.Marcos'"
      ]
     },
     "execution_count": 22,
     "metadata": {},
     "output_type": "execute_result"
    }
   ],
   "source": [
    "re.sub(\"Amy\",\"Marcos\",text)"
   ]
  },
  {
   "cell_type": "markdown",
   "id": "c407661e",
   "metadata": {},
   "source": [
    "## Patterns and Character Classes"
   ]
  },
  {
   "cell_type": "code",
   "execution_count": 24,
   "id": "dfc1d1af",
   "metadata": {},
   "outputs": [],
   "source": [
    "# Vamos supor uma string contendo as notas de um estudante\n",
    "grades=\"ACAAAABCBCBAA\""
   ]
  },
  {
   "cell_type": "code",
   "execution_count": 25,
   "id": "7bb5f945",
   "metadata": {},
   "outputs": [
    {
     "data": {
      "text/plain": [
       "3"
      ]
     },
     "execution_count": 25,
     "metadata": {},
     "output_type": "execute_result"
    }
   ],
   "source": [
    "# Se a gente quiser contar quantas notas B's o estudante tirou, utilizanto o findall()\n",
    "B=re.findall(\"B\",grades)\n",
    "len(B)"
   ]
  },
  {
   "cell_type": "code",
   "execution_count": 26,
   "id": "da55e7e1",
   "metadata": {},
   "outputs": [
    {
     "name": "stdout",
     "output_type": "stream",
     "text": [
      "['AB']\n",
      "['A', 'A', 'A', 'A', 'A', 'B', 'B', 'B', 'A', 'A']\n",
      "['A', 'A', 'A', 'A', 'A', 'B', 'B', 'B', 'A', 'A']\n"
     ]
    }
   ],
   "source": [
    "# Se queremos contar o número de notas A ou B.\n",
    "# Não podemos utilizar simplesmente 'AB', assim estaria pesquisando notas A seguidas de notas B.\n",
    "\n",
    "# Para isso, utilizamos '[]' que explicita um conjunto de caracteres\n",
    "print(re.findall(\"AB\",grades))\n",
    "print(re.findall(\"[AB]\",grades))\n",
    "print(re.findall(\"A|B\",grades))"
   ]
  },
  {
   "cell_type": "code",
   "execution_count": 29,
   "id": "0981511d",
   "metadata": {},
   "outputs": [
    {
     "name": "stdout",
     "output_type": "stream",
     "text": [
      "['AC', 'AB']\n",
      "['AC', 'AB']\n"
     ]
    }
   ],
   "source": [
    "# Se quisermos contar o número de notas A seguida de notas B ou C\n",
    "print(re.findall(\"[A][B-C]\",grades))\n",
    "print(re.findall(\"AB|AC\",grades))"
   ]
  },
  {
   "cell_type": "code",
   "execution_count": 33,
   "id": "d001f650",
   "metadata": {},
   "outputs": [
    {
     "data": {
      "text/plain": [
       "['C', 'B', 'C', 'B', 'C', 'B']"
      ]
     },
     "execution_count": 33,
     "metadata": {},
     "output_type": "execute_result"
    }
   ],
   "source": [
    "# Podemos utilizar o caractere ^ para negar resultados\n",
    "# Se quisermos conta o número de notas que não sejam A\n",
    "re.findall(\"[^A]\",grades)"
   ]
  },
  {
   "cell_type": "markdown",
   "id": "563a36e5",
   "metadata": {},
   "source": [
    "## Quantifiers "
   ]
  },
  {
   "cell_type": "code",
   "execution_count": null,
   "id": "e8c1e9c1",
   "metadata": {},
   "outputs": [],
   "source": [
    "# Quantificadores são o número de vezes que queremos que o padrão ocorra.\n",
    "# O quantificador padrão é expresso como e{m,n} , onde 'e' é a expressão ou o caractere a ser buscado, 'm' é o mínimos de ocorrências\n",
    "# que queremos que ocorra e 'n' é o número máximo que queremos que ocorra\n",
    "# Por padrão temos {1,1}\n"
   ]
  },
  {
   "cell_type": "code",
   "execution_count": null,
   "id": "260b063e",
   "metadata": {},
   "outputs": [],
   "source": [
    "grades"
   ]
  },
  {
   "cell_type": "code",
   "execution_count": 34,
   "id": "706c6860",
   "metadata": {},
   "outputs": [
    {
     "data": {
      "text/plain": [
       "['AAAA', 'AA']"
      ]
     },
     "execution_count": 34,
     "metadata": {},
     "output_type": "execute_result"
    }
   ],
   "source": [
    "# Quantas vezes o estudante tirou A seguidos?\n",
    "re.findall(\"A{2,10}\",grades)"
   ]
  },
  {
   "cell_type": "code",
   "execution_count": 35,
   "id": "7732e571",
   "metadata": {},
   "outputs": [
    {
     "data": {
      "text/plain": [
       "['AA', 'AA', 'AA']"
      ]
     },
     "execution_count": 35,
     "metadata": {},
     "output_type": "execute_result"
    }
   ],
   "source": [
    "# Se só passarmos um único número nos \"{}\", esse número é considerado como sendo os 2 valores\n",
    "re.findall(\"A{2}\",grades)"
   ]
  },
  {
   "cell_type": "code",
   "execution_count": 38,
   "id": "c2f2fbb1",
   "metadata": {},
   "outputs": [
    {
     "data": {
      "text/plain": [
       "['AAAABC']"
      ]
     },
     "execution_count": 38,
     "metadata": {},
     "output_type": "execute_result"
    }
   ],
   "source": [
    "#Podemos buscar por uma sequência de notas decrescente\n",
    "re.findall(\"A{1,10}B{1,10}C{1,10}\",grades)"
   ]
  },
  {
   "cell_type": "markdown",
   "id": "3cfb835b",
   "metadata": {},
   "source": [
    "### Wikipedia text"
   ]
  },
  {
   "cell_type": "code",
   "execution_count": 39,
   "id": "6668ce99",
   "metadata": {
    "scrolled": true
   },
   "outputs": [
    {
     "data": {
      "text/plain": [
       "'Overview[edit]\\nFERPA gives parents access to their child\\'s education records, an opportunity to seek to have the records amended, and some control over the disclosure of information from the records. With several exceptions, schools must have a student\\'s consent prior to the disclosure of education records after that student is 18 years old. The law applies only to educational agencies and institutions that receive funds under a program administered by the U.S. Department of Education.\\n\\nOther regulations under this act, effective starting January 3, 2012, allow for greater disclosures of personal and directory student identifying information and regulate student IDs and e-mail addresses.[2] For example, schools may provide external companies with a student\\'s personally identifiable information without the student\\'s consent.[2]\\n\\nExamples of situations affected by FERPA include school employees divulging information to anyone other than the student about the student\\'s grades or behavior, and school work posted on a bulletin board with a grade. Generally, schools must have written permission from the parent or eligible student in order to release any information from a student\\'s education record.\\n\\nThis privacy policy also governs how state agencies transmit testing data to federal agencies, such as the Education Data Exchange Network.\\n\\nThis U.S. federal law also gave students 18 years of age or older, or students of any age if enrolled in any post-secondary educational institution, the right of privacy regarding grades, enrollment, and even billing information unless the school has specific permission from the student to share that specific type of information.\\n\\nFERPA also permits a school to disclose personally identifiable information from education records of an \"eligible student\" (a student age 18 or older or enrolled in a postsecondary institution at any age) to his or her parents if the student is a \"dependent student\" as that term is defined in Section 152 of the Internal Revenue Code. Generally, if either parent has claimed the student as a dependent on the parent\\'s most recent income tax statement, the school may non-consensually disclose the student\\'s education records to both parents.[3]\\n\\nThe law allowed students who apply to an educational institution such as graduate school permission to view recommendations submitted by others as part of the application. However, on standard application forms, students are given the option to waive this right.\\n\\nFERPA specifically excludes employees of an educational institution if they are not students.\\n\\nThe act is also referred to as the Buckley Amendment, for one of its proponents, Senator James L. Buckley of New York.\\n\\nAccess to public records[edit]\\nThe citing of FERPA to conceal public records that are not \"educational\" in nature has been widely criticized, including by the act\\'s primary Senate sponsor.[4] For example, in the Owasso Independent School District v. Falvo case, an important part of the debate was determining the relationship between peer-grading and \"education records\" as defined in FERPA. In the Court of Appeals, it was ruled that students placing grades on the work of other students made such work into an \"education record.\" Thus, peer-grading was determined as a violation of FERPA privacy policies because students had access to other students\\' academic performance without full consent.[5] However, when the case went to the Supreme Court, it was officially ruled that peer-grading was not a violation of FERPA. This is because a grade written on a student\\'s work does not become an \"education record\" until the teacher writes the final grade into a grade book.[6]\\n\\nStudent medical records[edit]\\nLegal experts have debated the issue of whether student medical records (for example records of therapy sessions with a therapist at an on-campus counseling center) might be released to the school administration under certain triggering events, such as when a student sued his college or university.[7][8]\\n\\nUsually, student medical treatment records will remain under the protection of FERPA, not the Health Insurance Portability and Accountability Act (HIPAA). This is due to the \"FERPA Exception\" written within HIPAA.[9]'"
      ]
     },
     "execution_count": 39,
     "metadata": {},
     "output_type": "execute_result"
    }
   ],
   "source": [
    "with open(\"datasets/ferpa.txt\",\"r\") as file:\n",
    "    # we'll read that into a variable called wiki\n",
    "    wiki=file.read()\n",
    "# and lets print that variable out to the screen\n",
    "wiki"
   ]
  },
  {
   "cell_type": "code",
   "execution_count": 40,
   "id": "7f4c38f2",
   "metadata": {},
   "outputs": [
    {
     "data": {
      "text/plain": [
       "['Overview[edit]', 'records[edit]', 'records[edit]']"
      ]
     },
     "execution_count": 40,
     "metadata": {},
     "output_type": "execute_result"
    }
   ],
   "source": [
    "#Todos os headers tem a palavra [edit] depois deles, seguido por uma quebra de linha '\\n'\n",
    "#Então, se quisermos pegar todos os headers nesse artigo, podemos fazer da seguinte forma:\n",
    "re.findall(\"[a-zA-Z]{1,100}\\[edit\\]\",wiki)"
   ]
  },
  {
   "cell_type": "code",
   "execution_count": null,
   "id": "c2992848",
   "metadata": {},
   "outputs": [],
   "source": [
    "#Isso não funcionou, pois só temos a última palavra de cada header"
   ]
  },
  {
   "cell_type": "code",
   "execution_count": 41,
   "id": "0906e2ab",
   "metadata": {},
   "outputs": [
    {
     "data": {
      "text/plain": [
       "['Overview[edit]', 'records[edit]', 'records[edit]']"
      ]
     },
     "execution_count": 41,
     "metadata": {},
     "output_type": "execute_result"
    }
   ],
   "source": [
    "# Ao invés de[a-zA-Z], podemos utilizar '\\w' para encurtar o regex\n",
    "re.findall(\"[\\w]{1,100}\\[edit\\]\",wiki)"
   ]
  },
  {
   "cell_type": "code",
   "execution_count": 42,
   "id": "2062c972",
   "metadata": {},
   "outputs": [
    {
     "data": {
      "text/plain": [
       "['Overview[edit]', 'records[edit]', 'records[edit]']"
      ]
     },
     "execution_count": 42,
     "metadata": {},
     "output_type": "execute_result"
    }
   ],
   "source": [
    "# Ao invés de {1,100}, podemos utilizar '*' que significa \"zero ou nenhuma ocorrência\" para encurtar o regex\n",
    "re.findall(\"[\\w]*\\[edit\\]\",wiki)"
   ]
  },
  {
   "cell_type": "code",
   "execution_count": 43,
   "id": "37128370",
   "metadata": {},
   "outputs": [
    {
     "data": {
      "text/plain": [
       "['Overview[edit]',\n",
       " 'Access to public records[edit]',\n",
       " 'Student medical records[edit]']"
      ]
     },
     "execution_count": 43,
     "metadata": {},
     "output_type": "execute_result"
    }
   ],
   "source": [
    "re.findall(\"[\\w ]*\\[edit\\]\",wiki)\n"
   ]
  },
  {
   "cell_type": "code",
   "execution_count": null,
   "id": "59002127",
   "metadata": {},
   "outputs": [],
   "source": []
  },
  {
   "cell_type": "markdown",
   "id": "cc73a9e7",
   "metadata": {},
   "source": [
    "## Groups"
   ]
  },
  {
   "cell_type": "code",
   "execution_count": 52,
   "id": "b6d3fd75",
   "metadata": {},
   "outputs": [
    {
     "data": {
      "text/plain": [
       "[('Overview', '[edit]'),\n",
       " ('Access to public records', '[edit]'),\n",
       " ('Student medical records', '[edit]')]"
      ]
     },
     "execution_count": 52,
     "metadata": {},
     "output_type": "execute_result"
    }
   ],
   "source": [
    "# Podemos corresponder diferentes padrões, que são chamados de grupos e representados por '()'\n",
    "a=re.findall(\"([\\w ]*)(\\[edit\\])\",wiki)\n",
    "a"
   ]
  },
  {
   "cell_type": "code",
   "execution_count": 65,
   "id": "ec0c5572",
   "metadata": {},
   "outputs": [
    {
     "name": "stdout",
     "output_type": "stream",
     "text": [
      "Overview[edit]\n",
      "Overview[edit]\n",
      "Overview\n",
      "[edit]\n",
      "Access to public records[edit]\n",
      "Access to public records[edit]\n",
      "Access to public records\n",
      "[edit]\n",
      "Student medical records[edit]\n",
      "Student medical records[edit]\n",
      "Student medical records\n",
      "[edit]\n"
     ]
    }
   ],
   "source": [
    "# métodos de grupo () retorna uma tupla de um grupo.\n",
    "# Podemos pegar um grupo individual usando grupo(numero), onde grupo(0) retorna a correspondência inteira, e cada outro número é\n",
    "# uma parte da correspondência.\n",
    "\n",
    "# re.finditer() gera um Match Object, e podemos usar a função group()\n",
    "import re\n",
    "for item in re.finditer(\"([\\w ]*)(\\[edit\\])\",wiki):     # re.search iterável\n",
    "    print(item.group())\n",
    "    print(item.group(0))\n",
    "    print(item.group(1))\n",
    "    print(item.group(2))"
   ]
  },
  {
   "cell_type": "code",
   "execution_count": 68,
   "id": "136697be",
   "metadata": {},
   "outputs": [
    {
     "name": "stdout",
     "output_type": "stream",
     "text": [
      "{'title': 'Overview', 'edit_link': '[edit]'}\n",
      "{'title': 'Access to public records', 'edit_link': '[edit]'}\n",
      "{'title': 'Student medical records', 'edit_link': '[edit]'}\n"
     ]
    }
   ],
   "source": [
    "#Podemos nomear os grupos.\n",
    "# Para isso, usamos a sintaxe (?P<name>), onde os parênteses iniciam o grupo e <name> é o a chava do dicionário que queremos.\n",
    "for item in re.finditer(\"(?P<title>[\\w ]*)(?P<edit_link>\\[edit\\])\",wiki):\n",
    "    # Podemos pegar o dicionário retornado com .groupdict()\n",
    "    print(item.groupdict(0))"
   ]
  },
  {
   "cell_type": "code",
   "execution_count": 69,
   "id": "46007b1a",
   "metadata": {},
   "outputs": [
    {
     "name": "stdout",
     "output_type": "stream",
     "text": [
      "{'title': 'Overview', 'edit_link': '[edit]'}\n"
     ]
    }
   ],
   "source": [
    "for item in re.finditer(\"(?P<title>[\\w ]*)(?P<edit_link>\\[edit\\])\",wiki):\n",
    "    print(item.groupdict())\n",
    "    break"
   ]
  },
  {
   "cell_type": "markdown",
   "id": "82ff319c",
   "metadata": {},
   "source": [
    "## Look-ahead and Look-behind "
   ]
  },
  {
   "cell_type": "code",
   "execution_count": 72,
   "id": "ecaa3e2d",
   "metadata": {},
   "outputs": [
    {
     "name": "stdout",
     "output_type": "stream",
     "text": [
      "{'title': 'Overview'}\n",
      "{'title': 'Access to public records'}\n",
      "{'title': 'Student medical records'}\n"
     ]
    }
   ],
   "source": [
    "# Correspondência \"look ahead\" e \"look behind\".\n",
    "# Nesse caso,o padrão dado é para texto antes ou depois do texto que queremos isolar.\n",
    "# Por exemplo, queremos isolar o [edit]\n",
    "# Podemos então,podemos capturar o [edit] e usar 'look ahead' com a sintaxr ?=\n",
    "for item in re.finditer(\"(?P<title>[\\w ]+)(?=\\[edit\\])\",wiki):\n",
    "    # Aqui, estamos procurando 2 grupos, o primeiro será nomeado 'title' que terá qualquer quantidade de espaços em brancos ou \n",
    "    # caracteres , o segundo grupo será o caractere [edit] mas não queremos armazenar no nosso Match Object\n",
    "    print(item.groupdict())"
   ]
  },
  {
   "cell_type": "markdown",
   "id": "3e3f0a80",
   "metadata": {},
   "source": [
    "### Example: Wikipedia Data"
   ]
  },
  {
   "cell_type": "code",
   "execution_count": 73,
   "id": "2d059a41",
   "metadata": {},
   "outputs": [
    {
     "data": {
      "text/plain": [
       "'Buddhist universities and colleges in the United States\\nFrom Wikipedia, the free encyclopedia\\nJump to navigationJump to search\\n\\nThis article needs additional citations for verification. Please help improve this article by adding citations to reliable sources. Unsourced material may be challenged and removed.\\nFind sources: \"Buddhist universities and colleges in the United States\" – news · newspapers · books · scholar · JSTOR (December 2009) (Learn how and when to remove this template message)\\nThere are several Buddhist universities in the United States. Some of these have existed for decades and are accredited. Others are relatively new and are either in the process of being accredited or else have no formal accreditation. The list includes:\\n\\nDhammakaya Open University – located in Azusa, California, part of the Thai Wat Phra Dhammakaya[1]\\nDharmakirti College – located in Tucson, Arizona Now called Awam Tibetan Buddhist Institute (http://awaminstitute.org/)\\nDharma Realm Buddhist University – located in Ukiah, California\\nEwam Buddhist Institute – located in Arlee, Montana\\nNaropa University is located in Boulder, Colorado (Accredited by the Higher Learning Commission)\\nInstitute of Buddhist Studies – located in Berkeley, California\\nMaitripa College – located in Portland, Oregon\\nSoka University of America – located in Aliso Viejo, California\\nUniversity of the West – located in Rosemead, California\\nWon Institute of Graduate Studies – located in Glenside, Pennsylvania\\nReferences[edit]\\n^ Banchanon, Phongphiphat (3 February 2015). รู้จัก \"เครือข่ายธรรมกาย\" [Getting to know the Dhammakaya network]. Forbes Thailand (in Thai). Retrieved 11 November 2016.\\nExternal links[edit]\\nList of Buddhist Universities and Colleges in the world\\n'"
      ]
     },
     "execution_count": 73,
     "metadata": {},
     "output_type": "execute_result"
    }
   ],
   "source": [
    "with open(\"datasets/buddhist.txt\",\"r\", encoding=\"utf8\") as file:    \n",
    "    wiki=file.read()\n",
    "wiki"
   ]
  },
  {
   "cell_type": "code",
   "execution_count": 74,
   "id": "6da039c3",
   "metadata": {},
   "outputs": [
    {
     "name": "stdout",
     "output_type": "stream",
     "text": [
      "{'title': 'Dhammakaya Open University ', 'city': 'Azusa', 'state': 'California'}\n",
      "{'title': 'Dharmakirti College ', 'city': 'Tucson', 'state': 'Arizona'}\n",
      "{'title': 'Dharma Realm Buddhist University ', 'city': 'Ukiah', 'state': 'California'}\n",
      "{'title': 'Ewam Buddhist Institute ', 'city': 'Arlee', 'state': 'Montana'}\n",
      "{'title': 'Institute of Buddhist Studies ', 'city': 'Berkeley', 'state': 'California'}\n",
      "{'title': 'Maitripa College ', 'city': 'Portland', 'state': 'Oregon'}\n",
      "{'title': 'University of the West ', 'city': 'Rosemead', 'state': 'California'}\n",
      "{'title': 'Won Institute of Graduate Studies ', 'city': 'Glenside', 'state': 'Pennsylvania'}\n"
     ]
    }
   ],
   "source": [
    "# Podemos ver que cada Universidade segue um padrão similar, com o nome seguido por um '-' e as palavras 'located in' seguido\n",
    "# pela cidade e pelo estado.\n",
    "\n",
    "# O modo verbose nos permite escrever váris linhas.\n",
    "# Nesse modo precisamos explicitar todos os caracteres em branco utilizando '\\ ' ou '\\s'\n",
    "pattern=\"\"\"\n",
    "(?P<title>.*)        #the university title\n",
    "(–\\ located\\ in\\ )   #an indicator of the location\n",
    "(?P<city>\\w*)        #city the university is in\n",
    "(,\\ )                #separator for the state\n",
    "(?P<state>\\w*)       #the state the city is located in\n",
    "\"\"\"\n",
    "\n",
    "# Agora utilizamos o finditer() e passamos 're.VERBOSE' como último parâmetro\n",
    "for item in re.finditer(pattern,wiki,re.VERBOSE):   \n",
    "    print(item.groupdict())\n",
    "\n"
   ]
  },
  {
   "cell_type": "markdown",
   "id": "b5ce3c80",
   "metadata": {},
   "source": [
    "### Example: New York Times and Hashtags"
   ]
  },
  {
   "cell_type": "code",
   "execution_count": null,
   "id": "52b30917",
   "metadata": {},
   "outputs": [],
   "source": [
    "with open(\"datasets/nytimeshealth.txt\",\"r\",encoding=\"utf8\") as file:    \n",
    "    health=file.read()\n",
    "health"
   ]
  },
  {
   "cell_type": "code",
   "execution_count": null,
   "id": "90829e1e",
   "metadata": {},
   "outputs": [],
   "source": [
    "# Aqui, temos tweets com campos separados por '|'.\n",
    "# Vamos tentar pegar uma lista com todas as hashtags nesses dados\n",
    "# Uma hashtag começa com '#'e continua até um espaço em branco\n",
    "\n",
    "pattern2 = '#[\\w\\d]*\\s'\n",
    "pattern3 = '#[\\w\\d]*(\\s)'\n",
    "pattern4 = '#[\\w\\d]*(?=\\s)'\n",
    "\n",
    "b=re.findall(pattern2, health)\n",
    "c=re.findall(pattern3, health)\n",
    "d=re.findall(pattern4, health)\n",
    "\n",
    "print(len(b))\n",
    "print(len(c))\n",
    "print(len(d))"
   ]
  }
 ],
 "metadata": {
  "kernelspec": {
   "display_name": "Python 3 (ipykernel)",
   "language": "python",
   "name": "python3"
  },
  "language_info": {
   "codemirror_mode": {
    "name": "ipython",
    "version": 3
   },
   "file_extension": ".py",
   "mimetype": "text/x-python",
   "name": "python",
   "nbconvert_exporter": "python",
   "pygments_lexer": "ipython3",
   "version": "3.10.8"
  }
 },
 "nbformat": 4,
 "nbformat_minor": 5
}
